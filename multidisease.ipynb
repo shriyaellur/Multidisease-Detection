{
  "cells": [
    {
      "cell_type": "code",
      "execution_count": null,
      "metadata": {
        "id": "HtDeeyrM7Muc"
      },
      "outputs": [],
      "source": [
        "import numpy as np\n",
        "import pandas as pd\n",
        "import cv2\n",
        "import matplotlib.pyplot as plt\n",
        "import os\n"
      ]
    },
    {
      "cell_type": "code",
      "execution_count": null,
      "metadata": {
        "colab": {
          "base_uri": "https://localhost:8080/"
        },
        "id": "mlvmLjMZ7poL",
        "outputId": "c6d48e8e-c8ef-45cd-d425-4e3ac86f57e1"
      },
      "outputs": [
        {
          "name": "stdout",
          "output_type": "stream",
          "text": [
            "Mounted at /content/drive\n"
          ]
        }
      ],
      "source": [
        "from google.colab import drive\n",
        "drive.mount('/content/drive')"
      ]
    },
    {
      "cell_type": "code",
      "source": [
        "from zipfile import ZipFile\n",
        "file_name='/content/drive/MyDrive/skin_disease_aug.zip'\n",
        "with ZipFile(file_name, 'r') as zip:\n",
        "  zip.extractall()"
      ],
      "metadata": {
        "id": "mxvAEo46kO1k"
      },
      "execution_count": null,
      "outputs": []
    },
    {
      "cell_type": "code",
      "source": [
        "from keras.preprocessing.image import ImageDataGenerator\n",
        "from tensorflow.keras.preprocessing.image import ImageDataGenerator\n",
        "\n",
        "data=ImageDataGenerator(rescale=1/255.,validation_split=0.3)\n",
        "dir='/content/skin_disease_aug/'\n",
        "\n",
        "X = Y = 224\n",
        "\n",
        "training = data.flow_from_directory(dir,\n",
        "                                    class_mode = \"categorical\",\n",
        "                                    target_size = (X, Y),\n",
        "                                    color_mode=\"rgb\", \n",
        "                                    shuffle = True,\n",
        "                                    subset='training',\n",
        "                                    seed = 42)\n",
        "\n",
        "validation = data.flow_from_directory(dir,\n",
        "                                      class_mode = \"categorical\",\n",
        "                                      target_size = (X, Y),\n",
        "                                      color_mode=\"rgb\", \n",
        "                                      subset='validation',\n",
        "                                      shuffle = True,seed=42)"
      ],
      "metadata": {
        "colab": {
          "base_uri": "https://localhost:8080/"
        },
        "outputId": "b16da811-7c49-4420-fe58-38148486609b",
        "id": "wWSw1pQwkO1k"
      },
      "execution_count": null,
      "outputs": [
        {
          "output_type": "stream",
          "name": "stdout",
          "text": [
            "Found 3188 images belonging to 3 classes.\n",
            "Found 1364 images belonging to 3 classes.\n"
          ]
        }
      ]
    },
    {
      "cell_type": "code",
      "source": [
        "training.class_indices"
      ],
      "metadata": {
        "colab": {
          "base_uri": "https://localhost:8080/"
        },
        "outputId": "0d569a98-263d-4275-fb8e-65221d40043e",
        "id": "6-P9t3VZkO1l"
      },
      "execution_count": null,
      "outputs": [
        {
          "output_type": "execute_result",
          "data": {
            "text/plain": [
              "{'Actinic_keratosis': 0, 'Normal': 1, 'skin_cancer': 2}"
            ]
          },
          "metadata": {},
          "execution_count": 5
        }
      ]
    },
    {
      "cell_type": "markdown",
      "source": [
        "## **Model1**"
      ],
      "metadata": {
        "id": "CyFEAdLwkO1l"
      }
    },
    {
      "cell_type": "code",
      "source": [
        "from tensorflow.keras.models import Sequential\n",
        "from tensorflow.keras.layers import Conv2D,MaxPooling2D,Flatten,Dense,Dropout\n",
        "import tensorflow as tf"
      ],
      "metadata": {
        "id": "Gj38Uiu-kO1l"
      },
      "execution_count": null,
      "outputs": []
    },
    {
      "cell_type": "code",
      "source": [
        "classifier=Sequential()\n",
        "classifier.add(Conv2D(filters=16,kernel_size=3,padding=\"same\",activation=\"relu\",input_shape=(224,224,3)))\n",
        "classifier.add(MaxPooling2D(pool_size=2))\n",
        "classifier.add(Conv2D(filters=32,kernel_size=3,padding=\"same\",activation =\"relu\"))\n",
        "classifier.add(MaxPooling2D(pool_size=2))\n",
        "classifier.add(Conv2D(filters=64,kernel_size=3,padding=\"same\",activation =\"relu\"))\n",
        "classifier.add(MaxPooling2D(pool_size=2))\n",
        "classifier.add(Dropout(0.1))\n",
        "classifier.add(Conv2D(filters=128,kernel_size=3,padding=\"same\",activation=\"relu\"))\n",
        "classifier.add(MaxPooling2D(pool_size=2))\n",
        "classifier.add(Dropout(0.3))\n",
        "classifier.add(Flatten())\n",
        "classifier.add(Dense(256,activation=\"relu\"))\n",
        "classifier.add(Dropout(0.3))\n",
        "classifier.add(Dense(128,activation=\"relu\"))\n",
        "classifier.add(Dropout(0.3))\n",
        "classifier.add(Dense(3,activation=\"softmax\"))\n",
        "classifier.summary()"
      ],
      "metadata": {
        "colab": {
          "base_uri": "https://localhost:8080/"
        },
        "outputId": "1c08a12b-b8ad-4643-dee8-83c232e7a9dd",
        "id": "o_Y2ZN1ykO1l"
      },
      "execution_count": null,
      "outputs": [
        {
          "output_type": "stream",
          "name": "stdout",
          "text": [
            "Model: \"sequential\"\n",
            "_________________________________________________________________\n",
            " Layer (type)                Output Shape              Param #   \n",
            "=================================================================\n",
            " conv2d (Conv2D)             (None, 224, 224, 16)      448       \n",
            "                                                                 \n",
            " max_pooling2d (MaxPooling2D  (None, 112, 112, 16)     0         \n",
            " )                                                               \n",
            "                                                                 \n",
            " conv2d_1 (Conv2D)           (None, 112, 112, 32)      4640      \n",
            "                                                                 \n",
            " max_pooling2d_1 (MaxPooling  (None, 56, 56, 32)       0         \n",
            " 2D)                                                             \n",
            "                                                                 \n",
            " conv2d_2 (Conv2D)           (None, 56, 56, 64)        18496     \n",
            "                                                                 \n",
            " max_pooling2d_2 (MaxPooling  (None, 28, 28, 64)       0         \n",
            " 2D)                                                             \n",
            "                                                                 \n",
            " dropout (Dropout)           (None, 28, 28, 64)        0         \n",
            "                                                                 \n",
            " conv2d_3 (Conv2D)           (None, 28, 28, 128)       73856     \n",
            "                                                                 \n",
            " max_pooling2d_3 (MaxPooling  (None, 14, 14, 128)      0         \n",
            " 2D)                                                             \n",
            "                                                                 \n",
            " dropout_1 (Dropout)         (None, 14, 14, 128)       0         \n",
            "                                                                 \n",
            " flatten (Flatten)           (None, 25088)             0         \n",
            "                                                                 \n",
            " dense (Dense)               (None, 256)               6422784   \n",
            "                                                                 \n",
            " dropout_2 (Dropout)         (None, 256)               0         \n",
            "                                                                 \n",
            " dense_1 (Dense)             (None, 128)               32896     \n",
            "                                                                 \n",
            " dropout_3 (Dropout)         (None, 128)               0         \n",
            "                                                                 \n",
            " dense_2 (Dense)             (None, 3)                 387       \n",
            "                                                                 \n",
            "=================================================================\n",
            "Total params: 6,553,507\n",
            "Trainable params: 6,553,507\n",
            "Non-trainable params: 0\n",
            "_________________________________________________________________\n"
          ]
        }
      ]
    },
    {
      "cell_type": "code",
      "execution_count": null,
      "metadata": {
        "id": "ywBrvkTrV_lE"
      },
      "outputs": [],
      "source": [
        "classifier.load_weights('/content/drive/MyDrive/weights_skin_disease_save.h5')"
      ]
    },
    {
      "cell_type": "code",
      "execution_count": null,
      "metadata": {
        "id": "D-bzeeYb7spT"
      },
      "outputs": [],
      "source": [
        "classifier.compile(loss='categorical_crossentropy',optimizer='adam',metrics=['accuracy'])"
      ]
    },
    {
      "cell_type": "code",
      "execution_count": null,
      "metadata": {
        "id": "EzHiw8E6WN94"
      },
      "outputs": [],
      "source": [
        "train_loss,train_acc=classifier.evaluate(training)"
      ]
    },
    {
      "cell_type": "code",
      "execution_count": null,
      "metadata": {
        "id": "gRCN1ocEWNw0"
      },
      "outputs": [],
      "source": [
        "test_loss,test_acc=classifier.evaluate(validation)"
      ]
    },
    {
      "cell_type": "code",
      "execution_count": null,
      "metadata": {
        "colab": {
          "base_uri": "https://localhost:8080/"
        },
        "id": "97RvMC0v7sn5",
        "outputId": "659d18fe-5f71-4d2c-9d4d-552a24a1a7b1"
      },
      "outputs": [
        {
          "name": "stdout",
          "output_type": "stream",
          "text": [
            "Epoch 1/5\n",
            "16/16 [==============================] - 4s 257ms/step - loss: 0.2055 - accuracy: 0.9237 - val_loss: 0.5043 - val_accuracy: 0.8443\n",
            "Epoch 2/5\n",
            "16/16 [==============================] - 4s 244ms/step - loss: 0.1412 - accuracy: 0.9558 - val_loss: 0.5113 - val_accuracy: 0.8585\n",
            "Epoch 3/5\n",
            "16/16 [==============================] - 4s 242ms/step - loss: 0.1296 - accuracy: 0.9618 - val_loss: 0.4848 - val_accuracy: 0.8821\n",
            "Epoch 4/5\n",
            "16/16 [==============================] - 4s 242ms/step - loss: 0.1680 - accuracy: 0.9337 - val_loss: 0.6507 - val_accuracy: 0.8585\n",
            "Epoch 5/5\n",
            "16/16 [==============================] - 4s 241ms/step - loss: 0.1368 - accuracy: 0.9578 - val_loss: 0.5749 - val_accuracy: 0.8868\n"
          ]
        },
        {
          "data": {
            "text/plain": [
              "<keras.callbacks.History at 0x7f1f58f93050>"
            ]
          },
          "execution_count": 21,
          "metadata": {},
          "output_type": "execute_result"
        }
      ],
      "source": [
        "#classifier.fit(training,validation_data=validation,epochs=5,batch_size=20)"
      ]
    },
    {
      "cell_type": "code",
      "execution_count": null,
      "metadata": {
        "id": "4ebMmDjqUB8K"
      },
      "outputs": [],
      "source": [
        "#classifier.save('/content/drive/MyDrive/weights_skin_disease_save.h5')"
      ]
    },
    {
      "cell_type": "markdown",
      "metadata": {
        "id": "qNQydFdXBkQX"
      },
      "source": [
        "## **Model2**"
      ]
    },
    {
      "cell_type": "code",
      "execution_count": null,
      "metadata": {
        "id": "EslB7GXZ9nVF"
      },
      "outputs": [],
      "source": [
        "from zipfile import ZipFile\n",
        "file_name='/content/drive/MyDrive/skin_cancer.zip'\n",
        "with ZipFile(file_name, 'r') as zip:\n",
        "  zip.extractall()"
      ]
    },
    {
      "cell_type": "code",
      "execution_count": null,
      "metadata": {
        "colab": {
          "base_uri": "https://localhost:8080/"
        },
        "id": "n_PX4NMe9nRh",
        "outputId": "f4add29d-1be1-4440-af18-49aa1362370f"
      },
      "outputs": [
        {
          "name": "stdout",
          "output_type": "stream",
          "text": [
            "Found 2112 images belonging to 2 classes.\n",
            "Found 905 images belonging to 2 classes.\n"
          ]
        }
      ],
      "source": [
        "from keras.preprocessing.image import ImageDataGenerator\n",
        "from tensorflow.keras.preprocessing.image import ImageDataGenerator\n",
        "\n",
        "data=ImageDataGenerator(rescale=1/255.,validation_split=0.3)\n",
        "\n",
        "X = Y = 224\n",
        "dir1 = '/content/skin_cancer/'\n",
        "\n",
        "training1 = data.flow_from_directory(dir1,\n",
        "                                    class_mode = \"binary\",\n",
        "                                    target_size = (X, Y),\n",
        "                                    color_mode=\"rgb\", \n",
        "                                    shuffle = True,\n",
        "                                    subset='training',\n",
        "                                    seed = 42)\n",
        "\n",
        "validation1 = data.flow_from_directory(dir1,\n",
        "                                      class_mode = \"binary\",\n",
        "                                      target_size = (X, Y),\n",
        "                                      color_mode=\"rgb\", \n",
        "                                      subset='validation',\n",
        "                                      shuffle = True,seed=42)"
      ]
    },
    {
      "cell_type": "code",
      "execution_count": null,
      "metadata": {
        "colab": {
          "base_uri": "https://localhost:8080/"
        },
        "id": "QUNdj6Zo9nQG",
        "outputId": "46c1e195-11cf-4b5e-812b-99958d675657"
      },
      "outputs": [
        {
          "data": {
            "text/plain": [
              "{'benign': 0, 'malignant': 1}"
            ]
          },
          "execution_count": 30,
          "metadata": {},
          "output_type": "execute_result"
        }
      ],
      "source": [
        "training1.class_indices"
      ]
    },
    {
      "cell_type": "markdown",
      "metadata": {
        "id": "RjvrfzVl2YUz"
      },
      "source": [
        "#### **Transfer learning**"
      ]
    },
    {
      "cell_type": "code",
      "execution_count": null,
      "metadata": {
        "colab": {
          "base_uri": "https://localhost:8080/"
        },
        "id": "5Adq94fY2e9b",
        "outputId": "aa68e700-d0c2-4cb3-a971-1c7d9a96eae9"
      },
      "outputs": [
        {
          "name": "stdout",
          "output_type": "stream",
          "text": [
            "Downloading data from https://storage.googleapis.com/tensorflow/keras-applications/mobilenet/mobilenet_1_0_224_tf_no_top.h5\n",
            "17227776/17225924 [==============================] - 0s 0us/step\n",
            "17235968/17225924 [==============================] - 0s 0us/step\n"
          ]
        }
      ],
      "source": [
        "base_model1=tf.keras.applications.MobileNet(input_shape=(224,224,3),include_top=False)"
      ]
    },
    {
      "cell_type": "code",
      "execution_count": null,
      "metadata": {
        "colab": {
          "base_uri": "https://localhost:8080/"
        },
        "id": "LqK93d5X2W1t",
        "outputId": "bd495089-67ec-4bfd-e89e-6c11cf4eb9fc"
      },
      "outputs": [
        {
          "name": "stdout",
          "output_type": "stream",
          "text": [
            "Model: \"sequential_3\"\n",
            "_________________________________________________________________\n",
            " Layer (type)                Output Shape              Param #   \n",
            "=================================================================\n",
            " mobilenet_1.00_224 (Functio  (None, 7, 7, 1024)       3228864   \n",
            " nal)                                                            \n",
            "                                                                 \n",
            " flatten_3 (Flatten)         (None, 50176)             0         \n",
            "                                                                 \n",
            " dropout_8 (Dropout)         (None, 50176)             0         \n",
            "                                                                 \n",
            " dense_9 (Dense)             (None, 512)               25690624  \n",
            "                                                                 \n",
            " dropout_9 (Dropout)         (None, 512)               0         \n",
            "                                                                 \n",
            " dense_10 (Dense)            (None, 64)                32832     \n",
            "                                                                 \n",
            " dropout_10 (Dropout)        (None, 64)                0         \n",
            "                                                                 \n",
            " dense_11 (Dense)            (None, 1)                 65        \n",
            "                                                                 \n",
            "=================================================================\n",
            "Total params: 28,952,385\n",
            "Trainable params: 28,930,497\n",
            "Non-trainable params: 21,888\n",
            "_________________________________________________________________\n"
          ]
        }
      ],
      "source": [
        "classifier1=Sequential([base_model1,\n",
        "                            Flatten(),\n",
        "                           Dropout(0.3),\n",
        "                          Dense(512,activation='relu'),\n",
        "                           Dropout(0.3),\n",
        "                          Dense(64,activation='relu'),\n",
        "                           Dropout(0.2),\n",
        "                          Dense(1,activation='sigmoid')])\n",
        "classifier1.summary()"
      ]
    },
    {
      "cell_type": "code",
      "execution_count": null,
      "metadata": {
        "id": "SaBmLKHk86Xl"
      },
      "outputs": [],
      "source": [
        "classifier1.load_weights('/content/drive/MyDrive/weights_skin_cancer.h5')"
      ]
    },
    {
      "cell_type": "code",
      "execution_count": null,
      "metadata": {
        "id": "WT2qIxKE22nY"
      },
      "outputs": [],
      "source": [
        "classifier1.compile(loss='binary_crossentropy',optimizer='adam',metrics=['accuracy'])"
      ]
    },
    {
      "cell_type": "code",
      "execution_count": null,
      "metadata": {
        "colab": {
          "base_uri": "https://localhost:8080/"
        },
        "id": "mX6f1YEy9hHK",
        "outputId": "9653ce35-e460-44f9-b625-e76a5972f7f9"
      },
      "outputs": [
        {
          "name": "stdout",
          "output_type": "stream",
          "text": [
            "66/66 [==============================] - 7s 85ms/step - loss: 0.1110 - accuracy: 0.9560\n"
          ]
        }
      ],
      "source": [
        "train_loss1,train_acc1=classifier1.evaluate(training1)"
      ]
    },
    {
      "cell_type": "code",
      "execution_count": null,
      "metadata": {
        "colab": {
          "base_uri": "https://localhost:8080/"
        },
        "id": "EyOeEuck9g6i",
        "outputId": "a1046798-ee75-4f34-dfce-7c51d3719b1f"
      },
      "outputs": [
        {
          "name": "stdout",
          "output_type": "stream",
          "text": [
            "29/29 [==============================] - 3s 96ms/step - loss: 0.4751 - accuracy: 0.8597\n"
          ]
        }
      ],
      "source": [
        "test_loss1,test_acc1=classifier1.evaluate(validation1)"
      ]
    },
    {
      "cell_type": "code",
      "execution_count": null,
      "metadata": {
        "colab": {
          "base_uri": "https://localhost:8080/"
        },
        "id": "kriL3aBo22lt",
        "outputId": "31a2a596-1789-4a54-c683-a3a0bc9de0ca"
      },
      "outputs": [
        {
          "name": "stdout",
          "output_type": "stream",
          "text": [
            "Epoch 1/3\n",
            "66/66 [==============================] - 16s 235ms/step - loss: 0.0929 - accuracy: 0.9612 - val_loss: 0.6251 - val_accuracy: 0.8530\n",
            "Epoch 2/3\n",
            "66/66 [==============================] - 16s 238ms/step - loss: 0.0864 - accuracy: 0.9744 - val_loss: 0.5845 - val_accuracy: 0.8464\n",
            "Epoch 3/3\n",
            "66/66 [==============================] - 16s 238ms/step - loss: 0.0806 - accuracy: 0.9749 - val_loss: 0.4751 - val_accuracy: 0.8597\n"
          ]
        },
        {
          "data": {
            "text/plain": [
              "<keras.callbacks.History at 0x7fb38013ff10>"
            ]
          },
          "execution_count": 63,
          "metadata": {},
          "output_type": "execute_result"
        }
      ],
      "source": [
        "#transfer_model.fit(training1,validation_data=validation1,epochs=3,batch_size=50)"
      ]
    },
    {
      "cell_type": "code",
      "execution_count": null,
      "metadata": {
        "id": "D5Gx8-gM22iC"
      },
      "outputs": [],
      "source": [
        "#transfer_model.save('/content/drive/MyDrive/weights_skin_cancer.h5')"
      ]
    }
  ],
  "metadata": {
    "accelerator": "GPU",
    "colab": {
      "provenance": []
    },
    "gpuClass": "standard",
    "kernelspec": {
      "display_name": "Python 3",
      "language": "python",
      "name": "python3"
    },
    "language_info": {
      "codemirror_mode": {
        "name": "ipython",
        "version": 3
      },
      "file_extension": ".py",
      "mimetype": "text/x-python",
      "name": "python",
      "nbconvert_exporter": "python",
      "pygments_lexer": "ipython3",
      "version": "3.7.4"
    }
  },
  "nbformat": 4,
  "nbformat_minor": 0
}